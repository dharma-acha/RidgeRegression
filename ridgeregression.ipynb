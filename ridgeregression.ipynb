{
  "cells": [
    {
      "cell_type": "markdown",
      "metadata": {
        "id": "IVwWjICsTlCA"
      },
      "source": [
        "***Diamond Dataset Data Preprocessing***"
      ]
    },
    {
      "cell_type": "markdown",
      "metadata": {
        "id": "bjUJxCiCTlCG"
      },
      "source": [
        "**Importing Libraries**"
      ]
    },
    {
      "cell_type": "code",
      "execution_count": null,
      "metadata": {
        "id": "smGR9vELTlCH"
      },
      "outputs": [],
      "source": [
        "import pandas as pd\n",
        "import numpy as np\n",
        "import matplotlib.pyplot as plt\n",
        "import seaborn as sns\n",
        "import pickle"
      ]
    },
    {
      "cell_type": "markdown",
      "metadata": {
        "id": "pmppzMCcTlCL"
      },
      "source": [
        "**Handling missing values, Handle mismatched string formats.**"
      ]
    },
    {
      "cell_type": "code",
      "execution_count": null,
      "metadata": {
        "id": "nDbaawG5TlCM",
        "outputId": "ba4320be-4050-4be5-940d-ec3ede4e9f62"
      },
      "outputs": [
        {
          "name": "stdout",
          "output_type": "stream",
          "text": [
            "count of null values\n",
            "4845\n",
            "carat                                  1510\n",
            "cut                                    1293\n",
            "color                                  1512\n",
            "clarity                                 353\n",
            "average us salary                         0\n",
            "number of diamonds mined (millions)       0\n",
            "depth                                   694\n",
            "table                                  1542\n",
            "price                                  1583\n",
            "x                                      1526\n",
            "y                                      1221\n",
            "z                                      1433\n",
            "dtype: int64\n",
            "   carat        cut color clarity  average us salary  \\\n",
            "0   0.23      IDEAL     E     SI2              31282   \n",
            "1   0.21    PREMIUM     E     SI1              40049   \n",
            "2   0.23       GOOD     E     VS1              33517   \n",
            "3   0.29    PREMIUM     I     VS2              38495   \n",
            "4   0.31       GOOD     J     SI2              34178   \n",
            "5   0.24  VERY GOOD     J    VVS2              44700   \n",
            "6   0.24  VERY GOOD     I    VVS1              42939   \n",
            "7   0.23      IDEAL     H     SI1              37587   \n",
            "8   0.22       FAIR     E     VS2              30454   \n",
            "9   0.23  VERY GOOD     H     VS1              45506   \n",
            "\n",
            "   number of diamonds mined (millions)  depth  table  price     x     y     z  \n",
            "0                                 5.01   61.5   55.0  326.0  3.95  3.98  2.43  \n",
            "1                                 1.69   59.8   61.0  326.0  3.89  3.84  2.31  \n",
            "2                                 3.85   56.9   65.0  327.0  4.05  4.07  2.31  \n",
            "3                                 3.49   62.4   58.0  334.0  4.20  4.23  2.63  \n",
            "4                                 4.70   63.3   58.0  335.0  4.34  4.35  2.75  \n",
            "5                                 0.86   62.8   57.0  336.0  3.94  3.96  2.48  \n",
            "6                                 1.68   62.3   57.0  336.0  3.95  3.98  2.47  \n",
            "7                                 4.62   63.7   59.0  336.5  4.07  4.11  2.53  \n",
            "8                                 4.02   65.1   61.0  337.0  3.87  3.78  2.49  \n",
            "9                                 1.20   59.4   61.0  338.0  4.00  4.05  2.39  \n"
          ]
        }
      ],
      "source": [
        "#Reading Dataset\n",
        "df=pd.read_csv(r'/Users/adarshreddy/Downloads/noisy_datasets/diamond.csv')\n",
        "df.drop('Unnamed: 0', axis=1, inplace=True)\n",
        "categorical=[\"cut\",\"color\",\"clarity\"]\n",
        "\n",
        "#checking rows with null values\n",
        "print(\"count of null values\")\n",
        "rows_with_null = df.isnull().sum(axis=1)\n",
        "print(len(rows_with_null[rows_with_null > 0]))\n",
        "\n",
        "mis_values = (df.isnull().sum())\n",
        "print(mis_values)\n",
        "\n",
        "#changing datatypes of numerical columns\n",
        "for c in df.columns:\n",
        "    if df[c].dtype==\"object\" and c not in categorical:\n",
        "        df[c]=pd.to_numeric(df[c],errors='coerce')\n",
        "\n",
        "#getting numerical columns\n",
        "num_cols = df.select_dtypes(include=['float64', 'int64']).columns\n",
        "\n",
        "#using interploate method to replace null values to retian the linear properties\n",
        "for c in num_cols:\n",
        "    df[c] = pd.to_numeric(df[c], errors='coerce')\n",
        "    df[c] = df[c].interpolate(method='linear')\n",
        "\n",
        "\n",
        "#replacing null values in categorical columns with mode.\n",
        "modes=df[categorical].mode().iloc[0]\n",
        "\n",
        "for i in categorical:\n",
        "    df[i]=df[i].fillna(modes[i])\n",
        "\n",
        "#handling case senstivity\n",
        "\n",
        "def upperCase(y):\n",
        "  return  str(y).upper()\n",
        "df[\"clarity\"]=df[\"clarity\"].apply(upperCase)\n",
        "\n",
        "def upperCase(x):\n",
        "  return  str(x).upper()\n",
        "df[\"cut\"]=df[\"cut\"].apply(upperCase)\n",
        "\n",
        "def upperCase(z):\n",
        "  return  str(z).upper()\n",
        "df[\"color\"]=df[\"color\"].apply(upperCase)\n",
        "\n",
        "\n",
        "df_clarity = df[-df['clarity'].astype(str).str.lower().isin(['true', 'false','maybe'])]\n",
        "df_cut = df[-df['cut'].astype(str).str.lower().isin(['true', 'false','maybe'])]\n",
        "df_color = df[-df['color'].astype(str).str.lower().isin(['true', 'false','maybe'])]\n",
        "\n",
        "\n",
        "df['clarity'] = df_clarity['clarity']\n",
        "df['cut'] = df_cut['cut']\n",
        "df['color'] = df_color['color']\n",
        "df=df.dropna()\n",
        "\n",
        "\n",
        "print(df.head(10))"
      ]
    },
    {
      "cell_type": "markdown",
      "metadata": {
        "id": "S_y9-7_GTlCQ"
      },
      "source": [
        "**Handling outliers**"
      ]
    },
    {
      "cell_type": "code",
      "execution_count": null,
      "metadata": {
        "id": "Fvq5iR4WTlCR",
        "outputId": "73e0594d-ecea-46c7-a37f-327aaacb6d2f"
      },
      "outputs": [
        {
          "data": {
            "image/png": "[encoded data removed]",
            "text/plain": [
              "<Figure size 432x288 with 1 Axes>"
            ]
          },
          "metadata": {
            "needs_background": "light"
          },
          "output_type": "display_data"
        },
        {
          "data": {
            "image/png": "[encoded data removed]",
            "text/plain": [
              "<Figure size 432x288 with 1 Axes>"
            ]
          },
          "metadata": {
            "needs_background": "light"
          },
          "output_type": "display_data"
        },
        {
          "data": {
            "image/png": "[encoded data removed]",
            "text/plain": [
              "<Figure size 432x288 with 1 Axes>"
            ]
          },
          "metadata": {
            "needs_background": "light"
          },
          "output_type": "display_data"
        },
        {
          "data": {
            "image/png": "[encoded data removed]",
            "text/plain": [
              "<Figure size 432x288 with 1 Axes>"
            ]
          },
          "metadata": {
            "needs_background": "light"
          },
          "output_type": "display_data"
        },
        {
          "data": {
            "image/png": "[encoded data removed]",
            "text/plain": [
              "<Figure size 432x288 with 1 Axes>"
            ]
          },
          "metadata": {
            "needs_background": "light"
          },
          "output_type": "display_data"
        },
        {
          "data": {
            "image/png": "[encoded data removed]",
            "text/plain": [
              "<Figure size 432x288 with 1 Axes>"
            ]
          },
          "metadata": {
            "needs_background": "light"
          },
          "output_type": "display_data"
        },
        {
          "data": {
            "image/png": "[encoded data removed]",
            "text/plain": [
              "<Figure size 432x288 with 1 Axes>"
            ]
          },
          "metadata": {
            "needs_background": "light"
          },
          "output_type": "display_data"
        },
        {
          "data": {
            "image/png": "[encoded data removed]",
            "text/plain": [
              "<Figure size 432x288 with 1 Axes>"
            ]
          },
          "metadata": {
            "needs_background": "light"
          },
          "output_type": "display_data"
        },
        {
          "data": {
            "image/png": "[encoded data removed]",
            "text/plain": [
              "<Figure size 432x288 with 1 Axes>"
            ]
          },
          "metadata": {
            "needs_background": "light"
          },
          "output_type": "display_data"
        }
      ],
      "source": [
        "#handling outliers with conditional statments\n",
        "\n",
        "mean=df[num_cols].mean()\n",
        "\n",
        "df['carat']=np.where(df['carat']>=1.8,mean[0],df['carat'])\n",
        "df['depth']=np.where((df['depth']>63.9) | (df['depth']<60),mean[3],df['depth'])\n",
        "df['table']=np.where((df['table']>62) | (df['table']<54),mean[4],df['table'])\n",
        "df['price']=np.where((df['price']>4000) & (df['price']>100),mean[5],df['price'])\n",
        "df['x']=np.where((df['x']>9) | (df['x']<2),mean[6],df['x'])\n",
        "df['y']=np.where((df['y']>7) | (df['y']<4),mean[7],df['y'])\n",
        "df['z']=np.where((df['z']>5) | (df['z']<2),mean[8],df['z'])\n",
        "\n",
        "for i in num_cols:\n",
        "    plt.boxplot(df[i])\n",
        "    plt.show()"
      ]
    },
    {
      "cell_type": "markdown",
      "metadata": {
        "id": "90Vx-YCgTlCS"
      },
      "source": [
        "**Key Statistics**"
      ]
    },
    {
      "cell_type": "code",
      "execution_count": null,
      "metadata": {
        "id": "fXrhLNmITlCT",
        "outputId": "0a0f23bf-8b24-4ad5-bfe5-2577bc4f9cf2"
      },
      "outputs": [
        {
          "data": {
            "text/plain": [
              "carat                                      0.741272\n",
              "average us salary                      39506.756430\n",
              "number of diamonds mined (millions)        2.901581\n",
              "depth                                     61.876647\n",
              "table                                     57.375321\n",
              "price                                   2414.448805\n",
              "x                                          5.727417\n",
              "y                                          5.492144\n",
              "z                                          3.495058\n",
              "dtype: float64"
            ]
          },
          "metadata": {},
          "output_type": "display_data"
        },
        {
          "data": {
            "text/plain": [
              "carat                                      0.700000\n",
              "average us salary                      39528.000000\n",
              "number of diamonds mined (millions)        2.910000\n",
              "depth                                     61.750222\n",
              "table                                     57.000000\n",
              "price                                   2398.000000\n",
              "x                                          5.700000\n",
              "y                                          5.720000\n",
              "z                                          3.530000\n",
              "dtype: float64"
            ]
          },
          "metadata": {},
          "output_type": "display_data"
        },
        {
          "data": {
            "text/html": [
              "<div>\n",
              "<style scoped>\n",
              "    .dataframe tbody tr th:only-of-type {\n",
              "        vertical-align: middle;\n",
              "    }\n",
              "\n",
              "    .dataframe tbody tr th {\n",
              "        vertical-align: top;\n",
              "    }\n",
              "\n",
              "    .dataframe thead th {\n",
              "        text-align: right;\n",
              "    }\n",
              "</style>\n",
              "<table border=\"1\" class=\"dataframe\">\n",
              "  <thead>\n",
              "    <tr style=\"text-align: right;\">\n",
              "      <th></th>\n",
              "      <th>cut</th>\n",
              "      <th>color</th>\n",
              "      <th>clarity</th>\n",
              "    </tr>\n",
              "  </thead>\n",
              "  <tbody>\n",
              "    <tr>\n",
              "      <td>0</td>\n",
              "      <td>IDEAL</td>\n",
              "      <td>G</td>\n",
              "      <td>SI1</td>\n",
              "    </tr>\n",
              "  </tbody>\n",
              "</table>\n",
              "</div>"
            ],
            "text/plain": [
              "     cut color clarity\n",
              "0  IDEAL     G     SI1"
            ]
          },
          "metadata": {},
          "output_type": "display_data"
        },
        {
          "data": {
            "text/plain": [
              "carat                                      0.20\n",
              "average us salary                      30000.00\n",
              "number of diamonds mined (millions)        0.60\n",
              "depth                                     60.00\n",
              "table                                     54.00\n",
              "price                                    326.00\n",
              "x                                          3.73\n",
              "y                                          4.00\n",
              "z                                          2.01\n",
              "dtype: float64"
            ]
          },
          "metadata": {},
          "output_type": "display_data"
        },
        {
          "data": {
            "text/plain": [
              "carat                                      1.79\n",
              "average us salary                      48999.00\n",
              "number of diamonds mined (millions)        5.20\n",
              "depth                                     63.90\n",
              "table                                     62.00\n",
              "price                                   4000.00\n",
              "x                                          8.99\n",
              "y                                          7.00\n",
              "z                                          5.00\n",
              "dtype: float64"
            ]
          },
          "metadata": {},
          "output_type": "display_data"
        },
        {
          "data": {
            "text/plain": [
              "carat                                      0.40\n",
              "average us salary                      34761.00\n",
              "number of diamonds mined (millions)        1.75\n",
              "depth                                     61.40\n",
              "table                                     56.00\n",
              "price                                    949.00\n",
              "x                                          4.71\n",
              "y                                          4.74\n",
              "z                                          2.91\n",
              "Name: 0.25, dtype: float64"
            ]
          },
          "metadata": {},
          "output_type": "display_data"
        },
        {
          "data": {
            "text/plain": [
              "carat                                      0.700000\n",
              "average us salary                      39528.000000\n",
              "number of diamonds mined (millions)        2.910000\n",
              "depth                                     61.750222\n",
              "table                                     57.000000\n",
              "price                                   2398.000000\n",
              "x                                          5.700000\n",
              "y                                          5.720000\n",
              "z                                          3.530000\n",
              "Name: 0.5, dtype: float64"
            ]
          },
          "metadata": {},
          "output_type": "display_data"
        },
        {
          "data": {
            "text/plain": [
              "carat                                      1.010000\n",
              "average us salary                      44229.000000\n",
              "number of diamonds mined (millions)        4.050000\n",
              "depth                                     62.400000\n",
              "table                                     59.000000\n",
              "price                                   3928.816447\n",
              "x                                          6.540000\n",
              "y                                          6.160000\n",
              "z                                          4.010000\n",
              "Name: 0.75, dtype: float64"
            ]
          },
          "metadata": {},
          "output_type": "display_data"
        },
        {
          "name": "stdout",
          "output_type": "stream",
          "text": [
            "carat                                    395\n",
            "cut                                        5\n",
            "color                                      7\n",
            "clarity                                    8\n",
            "average us salary                      17613\n",
            "number of diamonds mined (millions)      461\n",
            "depth                                    144\n",
            "table                                    117\n",
            "price                                   3562\n",
            "x                                        963\n",
            "y                                        545\n",
            "z                                        600\n",
            "dtype: int64\n"
          ]
        },
        {
          "data": {
            "text/plain": [
              "carat                                     0.380610\n",
              "average us salary                      5485.550030\n",
              "number of diamonds mined (millions)       1.326515\n",
              "depth                                     0.827981\n",
              "table                                     1.898587\n",
              "price                                  1381.784607\n",
              "x                                         1.113207\n",
              "y                                         0.808487\n",
              "z                                         0.635378\n",
              "dtype: float64"
            ]
          },
          "metadata": {},
          "output_type": "display_data"
        }
      ],
      "source": [
        "#Key statistics\n",
        "\n",
        "df_numerical=num_cols\n",
        "\n",
        "#Mean\n",
        "mean=df[df_numerical].mean()\n",
        "display(mean)\n",
        "\n",
        "#Median\n",
        "median=df[df_numerical].median()\n",
        "display(median)\n",
        "\n",
        "#Mode\n",
        "cat_cols=['cut','color','clarity']\n",
        "mode=df[cat_cols].mode()\n",
        "display(mode)\n",
        "\n",
        "#min and max\n",
        "min_values=df[df_numerical].min()\n",
        "max_values=df[df_numerical].max()\n",
        "display(min_values)\n",
        "display(max_values)\n",
        "\n",
        "#quartiles\n",
        "\n",
        "display(df[num_cols].quantile(0.25))\n",
        "display(df[num_cols].quantile(0.50))\n",
        "display(df[num_cols].quantile(0.75))\n",
        "\n",
        "\n",
        "#counts\n",
        "print(df.nunique())\n",
        "\n",
        "\n",
        "#standard deviation\n",
        "deviation=df[df_numerical].std()\n",
        "display(deviation)"
      ]
    },
    {
      "cell_type": "markdown",
      "metadata": {
        "id": "4V9T4nE4TlCU"
      },
      "source": [
        "**visualization graphs**"
      ]
    },
    {
      "cell_type": "code",
      "execution_count": null,
      "metadata": {
        "id": "frEubd08TlCV",
        "outputId": "56b4fa5a-d9bf-46b8-83df-3c6b26887271"
      },
      "outputs": [
        {
          "data": {
            "image/png": "[encoded data removed]",
            "text/plain": [
              "<Figure size 432x288 with 1 Axes>"
            ]
          },
          "metadata": {
            "needs_background": "light"
          },
          "output_type": "display_data"
        }
      ],
      "source": [
        "#plot 1\n",
        "sns.countplot(x='cut', data=df)\n",
        "plt.xlabel('cut_type')\n",
        "plt.xticks(rotation=90)\n",
        "plt.ylabel('Count of each cut')\n",
        "plt.title('Number of each cuts')\n",
        "plt.grid(axis='y',alpha=0.2)\n",
        "plt.show()"
      ]
    },
    {
      "cell_type": "code",
      "execution_count": null,
      "metadata": {
        "id": "HaRkQRdBTlCW",
        "outputId": "3b384e52-f8f5-4820-a35e-b6d637b4eed5"
      },
      "outputs": [
        {
          "data": {
            "image/png": "[encoded data removed]",
            "text/plain": [
              "<Figure size 432x288 with 1 Axes>"
            ]
          },
          "metadata": {
            "needs_background": "light"
          },
          "output_type": "display_data"
        }
      ],
      "source": [
        "#plot 2\n",
        "sns.boxplot(x='table', data=df)\n",
        "plt.xlabel('table')\n",
        "plt.title('table')\n",
        "plt.show()"
      ]
    },
    {
      "cell_type": "code",
      "execution_count": null,
      "metadata": {
        "id": "6txxdhrCTlCW",
        "outputId": "07787815-783d-4a28-ac70-8a6ee4c1e3e9"
      },
      "outputs": [
        {
          "data": {
            "image/png": "[encoded data removed]",
            "text/plain": [
              "<Figure size 576x432 with 1 Axes>"
            ]
          },
          "metadata": {
            "needs_background": "light"
          },
          "output_type": "display_data"
        }
      ],
      "source": [
        "#plot 3\n",
        "plt.figure(figsize=(8, 6))\n",
        "sns.violinplot(x='cut', y='depth', data=df, palette='Set2')\n",
        "plt.xlabel('Cut')\n",
        "plt.ylabel('Depth')\n",
        "plt.title('Plot of Depth, Cut')\n",
        "plt.show()"
      ]
    },
    {
      "cell_type": "code",
      "execution_count": null,
      "metadata": {
        "id": "_zLRpT7PTlCX",
        "outputId": "418a67dc-f8c6-4d6d-a395-38949ba9c4c0"
      },
      "outputs": [
        {
          "data": {
            "image/png": "[encoded data removed]",
            "text/plain": [
              "<Figure size 576x432 with 1 Axes>"
            ]
          },
          "metadata": {
            "needs_background": "light"
          },
          "output_type": "display_data"
        }
      ],
      "source": [
        "#plot 4\n",
        "plt.figure(figsize=(8, 6))\n",
        "plt.hist(df['depth'], bins=15, edgecolor='black', alpha=0.7)\n",
        "plt.xlabel('Depth')\n",
        "plt.ylabel('Frequency')\n",
        "plt.title('Distribution of Depth')\n",
        "plt.grid(axis='y', alpha=0.75)\n",
        "plt.show()"
      ]
    },
    {
      "cell_type": "code",
      "execution_count": null,
      "metadata": {
        "id": "5D-YqMsmTlCX",
        "outputId": "aa08cd58-ad42-4115-fc7b-a8efe93bcb42"
      },
      "outputs": [
        {
          "data": {
            "image/png": "[encoded data removed]",
            "text/plain": [
              "<Figure size 432x288 with 1 Axes>"
            ]
          },
          "metadata": {
            "needs_background": "light"
          },
          "output_type": "display_data"
        }
      ],
      "source": [
        "sns.countplot(y='clarity', data=df)\n",
        "plt.ylabel('clarity')\n",
        "plt.grid(axis='x',alpha=0.2)\n",
        "plt.xlabel('Count of each clarity ')\n",
        "plt.title('Number of each clarity')\n",
        "plt.show()"
      ]
    },
    {
      "cell_type": "markdown",
      "metadata": {
        "id": "VADrlj40TlCY"
      },
      "source": [
        "**corelation matrix**"
      ]
    },
    {
      "cell_type": "code",
      "execution_count": null,
      "metadata": {
        "id": "AvHO6UHaTlCZ",
        "outputId": "6f063803-ee86-4313-99bd-d5645663ccf5"
      },
      "outputs": [
        {
          "name": "stdout",
          "output_type": "stream",
          "text": [
            "                                        carat  average us salary  \\\n",
            "carat                                1.000000           0.005387   \n",
            "average us salary                    0.005387           1.000000   \n",
            "number of diamonds mined (millions) -0.004974          -0.000162   \n",
            "depth                                0.036328          -0.000557   \n",
            "table                                0.171174           0.000903   \n",
            "price                                0.891388           0.002020   \n",
            "x                                    0.887121           0.005571   \n",
            "y                                    0.799114          -0.000840   \n",
            "z                                    0.948609           0.003664   \n",
            "\n",
            "                                     number of diamonds mined (millions)  \\\n",
            "carat                                                          -0.004974   \n",
            "average us salary                                              -0.000162   \n",
            "number of diamonds mined (millions)                             1.000000   \n",
            "depth                                                           0.003998   \n",
            "table                                                          -0.005804   \n",
            "price                                                          -0.006803   \n",
            "x                                                              -0.009976   \n",
            "y                                                              -0.000345   \n",
            "z                                                              -0.006428   \n",
            "\n",
            "                                        depth     table     price         x  \\\n",
            "carat                                0.036328  0.171174  0.891388  0.887121   \n",
            "average us salary                   -0.000557  0.000903  0.002020  0.005571   \n",
            "number of diamonds mined (millions)  0.003998 -0.005804 -0.006803 -0.009976   \n",
            "depth                                1.000000 -0.130142  0.032838  0.005008   \n",
            "table                               -0.130142  1.000000  0.170833  0.189091   \n",
            "price                                0.032838  0.170833  1.000000  0.917482   \n",
            "x                                    0.005008  0.189091  0.917482  1.000000   \n",
            "y                                    0.014804  0.159627  0.901485  0.793231   \n",
            "z                                    0.060958  0.159798  0.919262  0.923737   \n",
            "\n",
            "                                            y         z  \n",
            "carat                                0.799114  0.948609  \n",
            "average us salary                   -0.000840  0.003664  \n",
            "number of diamonds mined (millions) -0.000345 -0.006428  \n",
            "depth                                0.014804  0.060958  \n",
            "table                                0.159627  0.159798  \n",
            "price                                0.901485  0.919262  \n",
            "x                                    0.793231  0.923737  \n",
            "y                                    1.000000  0.834523  \n",
            "z                                    0.834523  1.000000  \n"
          ]
        },
        {
          "data": {
            "image/png": "[encoded data removed]",
            "text/plain": [
              "<Figure size 432x288 with 2 Axes>"
            ]
          },
          "metadata": {
            "needs_background": "light"
          },
          "output_type": "display_data"
        }
      ],
      "source": [
        "#Finding correlation\n",
        "import seaborn as sns\n",
        "import matplotlib.pyplot as plt\n",
        "\n",
        "corr=df.corr()\n",
        "print(corr)\n",
        "\n",
        "sns.heatmap(corr)\n",
        "plt.title('Correlation Heatmap')\n",
        "plt.show()\n",
        "\n",
        "#after checking the correlation we oberseve that number of diamonds mined (millions),average us salary ,\n",
        "#number of diamonds mined (millions) abd depth have low correlation with carat which is our target variable."
      ]
    },
    {
      "cell_type": "markdown",
      "metadata": {
        "id": "_O-R3PUITlCa"
      },
      "source": [
        "**Convert features with string datatype to categorical using Onehotencoding**"
      ]
    },
    {
      "cell_type": "code",
      "execution_count": null,
      "metadata": {
        "id": "OGJPseZ-TlCa"
      },
      "outputs": [],
      "source": [
        "df=pd.get_dummies(df, columns = ['cut','color','clarity'])"
      ]
    },
    {
      "cell_type": "markdown",
      "metadata": {
        "id": "Z3AcuzZnTlCb"
      },
      "source": [
        "**Normalization**"
      ]
    },
    {
      "cell_type": "code",
      "execution_count": null,
      "metadata": {
        "id": "SI7Dxd30TlCb"
      },
      "outputs": [],
      "source": [
        "n_col= [\"average us salary\",\"number of diamonds mined (millions)\",\"depth\",\"table\",\"price\",\"x\",\"y\",\"z\"]\n",
        "for val in n_col:\n",
        "    min_val=df[val].min()\n",
        "    max_val=df[val].max()\n",
        "    df[val]=(df[val]-min_val)/(max_val-min_val)"
      ]
    },
    {
      "cell_type": "code",
      "execution_count": null,
      "metadata": {
        "id": "qy7-oPIqTlCc"
      },
      "outputs": [],
      "source": [
        "df= df.drop([\"average us salary\",\"number of diamonds mined (millions)\"], axis=1)"
      ]
    },
    {
      "cell_type": "markdown",
      "source": [
        "## Ridge Regression\n"
      ],
      "metadata": {
        "id": "U_PUhW1OVEdM"
      }
    },
    {
      "cell_type": "code",
      "execution_count": null,
      "metadata": {
        "id": "MnYxo0pzTlCe",
        "outputId": "213eb3c3-b04b-4617-9d45-88d819504f13"
      },
      "outputs": [
        {
          "name": "stdout",
          "output_type": "stream",
          "text": [
            "Mean Squared Error: 0.00348234052407501\n"
          ]
        },
        {
          "data": {
            "image/png": "[encoded data removed]",
            "text/plain": [
              "<Figure size 432x288 with 1 Axes>"
            ]
          },
          "metadata": {
            "needs_background": "light"
          },
          "output_type": "display_data"
        }
      ],
      "source": [
        "import numpy as np\n",
        "import pandas as pd\n",
        "import matplotlib.pyplot as plt\n",
        "from sklearn.model_selection import train_test_split\n",
        "\n",
        "class Ridgeregression():\n",
        "    def __init__(self, lamda=3):\n",
        "        self.lamda = lamda\n",
        "        self.weights = None\n",
        "\n",
        "    def fit(self,  X_train, y_train):\n",
        "        self.weights = np.linalg.inv(X_train.T @ X_train + self.lamda*(np.identity(X_train.shape[1]))) @ X_train.T @ y_train\n",
        "\n",
        "    def predict(self, X_test):\n",
        "        return np.dot(X_test, self.weights)\n",
        "\n",
        "    def mse(self, y_pred_ridge, Y_test):\n",
        "        return np.mean((y_pred_ridge - Y_test)**2)\n",
        "\n",
        "\n",
        "X = df.drop(columns=['carat'])\n",
        "Y = df['carat']\n",
        "\n",
        "train_test_split = 0.8\n",
        "\n",
        "train_length = int(train_test_split * len(df))\n",
        "\n",
        "X_train = X[:train_length]\n",
        "Y_train = Y[:train_length]\n",
        "X_test = X[train_length:]\n",
        "Y_test = Y[train_length:]\n",
        "\n",
        "Ridgemodel = Ridgeregression(lamda=0.1)\n",
        "Ridgemodel.fit(X_train, Y_train)\n",
        "\n",
        "y_pred_ridge = Ridgemodel.predict(X_test)\n",
        "\n",
        "mse = Ridgemodel.mse(y_pred_ridge, Y_test)\n",
        "print(\"Mean Squared Error:\" ,mse)\n",
        "\n",
        "plt.scatter(Y_test, y_pred_ridge)\n",
        "plt.plot([min(Y_test), max(Y_test)], [min(y_pred_ridge), max(y_pred_ridge)], '-y')\n",
        "plt.xlabel('True Values')\n",
        "plt.ylabel('Predictions')\n",
        "plt.title(\"MSE Graph\")\n",
        "plt.show()"
      ]
    },
    {
      "cell_type": "code",
      "execution_count": null,
      "metadata": {
        "id": "cEotWyBQTlCf"
      },
      "outputs": [],
      "source": [
        "file_path = \"/Users/adarshreddy/Desktop/Assignments/ML/adarshre_dharmaac_assignment1_final/adarshre_dharmac_assignment1_part4.pickle\"\n",
        "weights_model_ridge=Ridgemodel.weights\n",
        "\n",
        "with open(file_path, 'wb') as file:\n",
        "    pickle.dump(weights_model_ridge, file)"
      ]
    },
    {
      "cell_type": "markdown",
      "metadata": {
        "id": "WpAst65nTlCf"
      },
      "source": [
        "**References**\n",
        "#https://seaborn.pydata.org/\n",
        "#https://numpy.org/doc/stable/reference/arrays.html"
      ]
    }
  ],
  "metadata": {
    "kernelspec": {
      "display_name": "Python 3",
      "language": "python",
      "name": "python3"
    },
    "language_info": {
      "codemirror_mode": {
        "name": "ipython",
        "version": 3
      },
      "file_extension": ".py",
      "mimetype": "text/x-python",
      "name": "python",
      "nbconvert_exporter": "python",
      "pygments_lexer": "ipython3",
      "version": "3.7.4"
    },
    "colab": {
      "provenance": []
    }
  },
  "nbformat": 4,
  "nbformat_minor": 0
}